{
  "nbformat": 4,
  "nbformat_minor": 0,
  "metadata": {
    "colab": {
      "provenance": []
    },
    "kernelspec": {
      "name": "python3",
      "display_name": "Python 3"
    },
    "language_info": {
      "name": "python"
    }
  },
  "cells": [
    {
      "cell_type": "code",
      "execution_count": 3,
      "metadata": {
        "id": "AL1tu-YdFviy"
      },
      "outputs": [],
      "source": [
        "class Employee:\n",
        "    def __init__(self, name, l_name, salary, exp):\n",
        "        self.name = name\n",
        "        self.last_name = l_name\n",
        "        self.base_salary = salary\n",
        "        self.experience = exp\n",
        "\n",
        "\n",
        "class Developer(Employee):\n",
        "    def __init__(self, name, l_name, salary, exp):\n",
        "       super().__init__(name, l_name, salary, exp)\n",
        "       \n",
        "\n",
        "class Designer(Employee):\n",
        "    def __init__(self, name, l_name, salary, exp, er):\n",
        "       super().__init__(name, l_name, salary, exp)\n",
        "       self.er = er\n",
        "\n",
        "class Manager(Employee):\n",
        "    def __init__(self, name, l_name, salary, exp, team):\n",
        "       super().__init__(name, l_name, salary, exp)\n",
        "       self.team = team   \n",
        "\n",
        "\n",
        "class Department:\n",
        "    def __init__(self, managers):\n",
        "         self.managers = managers\n",
        "    \n",
        "    def giveSalary(self):\n",
        "        print('\\n'.join(self.countedSalary()))\n",
        "\n",
        "    def countedSalary(self):\n",
        "        ans = []\n",
        "        for m in self.managers:\n",
        "            salary = m.base_salary\n",
        "            if m.experience > 5:   salary = salary*1.2 + 500\n",
        "            elif m.experience > 2: salary += 200\n",
        "\n",
        "            if len(m.team)>10: salary += 300\n",
        "            elif len(m.team)>5: salary += 200\n",
        "            \n",
        "            if sum(isinstance(x, Developer) for x in m.team)>len(m.team)/2: salary *= 1.1\n",
        "            ans.append(f'\\n{m.name} {m.last_name} отримав(-ла) {salary} шекєлей')\n",
        "\n",
        "            for e in m.team:\n",
        "                salary = e.base_salary\n",
        "\n",
        "                if e.experience > 5:\n",
        "                    salary = salary*1.2 + 500\n",
        "                elif e.experience > 2:\n",
        "                    salary += 200\n",
        "                \n",
        "                if isinstance(e, Designer):\n",
        "                    salary *= e.er\n",
        "\n",
        "                ans.append(f'   {e.name} {e.last_name} отримав(-ла) {salary} шекєлей')\n",
        "\n",
        "        return ans"
      ]
    },
    {
      "cell_type": "code",
      "source": [
        "department = Department(\n",
        "    [\n",
        "        Manager('Назарій', 'Кент', 5500, 7,\n",
        "                [\n",
        "                    Designer('Ніно',  'Шевченко', 2100, 1,   0.2),\n",
        "                    Designer('Данило',  'Жданов',      5400, 1.2, 0.3),\n",
        "                    Designer('Тарас',   'Бульба',     1200, 1.5, 0.7),\n",
        "                    Designer('Кирило',    'Діньок',   5000, 2.5, 0.2),\n",
        "                    Developer('Ігор', 'Любов',   5500, 7)\n",
        "                ]),\n",
        "        Manager('Борщік', 'Діденко', 5400, 8,\n",
        "                [\n",
        "                    Designer('Марта', 'Леон',    5600,   1.1,   0.7),\n",
        "                    Designer('Іван',    'Терешко', 2300,   2.5, 1.3),\n",
        "                    Developer('Дмитро',    'Вердон',  3800,   2.7),\n",
        "                    Developer('Тамара',  'Швець',    3900,   7),\n",
        "                    Developer('Кирило',  'Гусь',    1900, 0.3),\n",
        "                ]),\n",
        "        Manager('Денчік', 'Мірошниченко', 5600, 5,\n",
        "                [\n",
        "                    Designer('Ольга',     'Брець',    6400, 2,   3.5),\n",
        "                    Designer('Ніна',    'Калуш', 2300, 1.6, 1),\n",
        "                    Designer('Филип',    'Орлик',    4500, 2.5,   1.9),\n",
        "                    Designer('Вероніка',    'Лавр',    7400, 6,   0.4),\n",
        "                    Designer('Євген',    'Жадан',  1200, 1.5, 0.3),\n",
        "                    Designer('Влад',    'Сунко',    5000, 1.5, 0.3),\n",
        "                    Developer('Карпо',    'Картонович',    7800, 5),\n",
        "                    Developer('Володимир',    'Зеленський',     1200, 1.5),\n",
        "                    Developer('Віта',      'Карпюк',   1000, 0.4),\n",
        "                    Developer('Іван',    'Бздюха',   2300, 1.2),\n",
        "                    Developer('Віта',  'Дрогобич',    1700, 0.5)\n",
        "                ])\n",
        "        \n",
        "    ])"
      ],
      "metadata": {
        "id": "LKQvN4XrIFAf"
      },
      "execution_count": 4,
      "outputs": []
    },
    {
      "cell_type": "code",
      "source": [
        "department.giveSalary()"
      ],
      "metadata": {
        "colab": {
          "base_uri": "https://localhost:8080/"
        },
        "id": "HeusF9k0IJhX",
        "outputId": "9ae473ad-77e9-4e5b-dfaa-c77172ef5ac6"
      },
      "execution_count": 5,
      "outputs": [
        {
          "output_type": "stream",
          "name": "stdout",
          "text": [
            "\n",
            "Назарій Кент отримав(-ла) 7100.0 шекєлей\n",
            "   Ніно Шевченко отримав(-ла) 420.0 шекєлей\n",
            "   Данило Жданов отримав(-ла) 1620.0 шекєлей\n",
            "   Тарас Бульба отримав(-ла) 840.0 шекєлей\n",
            "   Кирило Діньок отримав(-ла) 1040.0 шекєлей\n",
            "   Ігор Любов отримав(-ла) 7100.0 шекєлей\n",
            "\n",
            "Борщік Діденко отримав(-ла) 7678.000000000001 шекєлей\n",
            "   Марта Леон отримав(-ла) 3919.9999999999995 шекєлей\n",
            "   Іван Терешко отримав(-ла) 3250.0 шекєлей\n",
            "   Дмитро Вердон отримав(-ла) 4000 шекєлей\n",
            "   Тамара Швець отримав(-ла) 5180.0 шекєлей\n",
            "   Кирило Гусь отримав(-ла) 1900 шекєлей\n",
            "\n",
            "Денчік Мірошниченко отримав(-ла) 6100 шекєлей\n",
            "   Ольга Брець отримав(-ла) 22400.0 шекєлей\n",
            "   Ніна Калуш отримав(-ла) 2300 шекєлей\n",
            "   Филип Орлик отримав(-ла) 8930.0 шекєлей\n",
            "   Вероніка Лавр отримав(-ла) 3752.0 шекєлей\n",
            "   Євген Жадан отримав(-ла) 360.0 шекєлей\n",
            "   Влад Сунко отримав(-ла) 1500.0 шекєлей\n",
            "   Карпо Картонович отримав(-ла) 8000 шекєлей\n",
            "   Володимир Зеленський отримав(-ла) 1200 шекєлей\n",
            "   Віта Карпюк отримав(-ла) 1000 шекєлей\n",
            "   Іван Бздюха отримав(-ла) 2300 шекєлей\n",
            "   Віта Дрогобич отримав(-ла) 1700 шекєлей\n"
          ]
        }
      ]
    }
  ]
}